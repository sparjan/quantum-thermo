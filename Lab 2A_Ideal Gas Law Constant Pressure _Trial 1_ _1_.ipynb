{
 "cells": [
  {
   "cell_type": "markdown",
   "metadata": {},
   "source": [
    "## Lab 2A: Ideal Gas Law, Constant Pressure (Trial 1)\n",
    "<bk>\n",
    "\n",
    "Shreya Parjan\n",
    "<bk>\n",
    "9/17/18"
   ]
  },
  {
   "cell_type": "markdown",
   "metadata": {},
   "source": [
    "The objective of this lab is to explore the relationship between temperature and volume at constant pressure using the Ideal Gas Law. By collecting data on the expansion of a gas's volume as it is heated, we can quantify the direct relationship between temperature and volume of a gas at constant pressure. We know that the gas will expand when heated at constant pressure because the gas molecules will receive thermal energy and need to occupy a larger volume to maintain pressure.\n",
    "\n"
   ]
  },
  {
   "cell_type": "markdown",
   "metadata": {},
   "source": [
    "### Relevant imports for analysis: numpy, matplotlib.pyplot and %matplotlib inline."
   ]
  },
  {
   "cell_type": "code",
   "execution_count": 16,
   "metadata": {},
   "outputs": [],
   "source": [
    "import numpy as np\n",
    "import matplotlib.pyplot as plt\n",
    "import scipy.stats\n",
    "import scipy.optimize\n",
    "import math as m\n",
    "%matplotlib inline"
   ]
  },
  {
   "cell_type": "markdown",
   "metadata": {},
   "source": [
    "### Raw data."
   ]
  },
  {
   "cell_type": "code",
   "execution_count": 17,
   "metadata": {},
   "outputs": [],
   "source": [
    "tempRoom = 21.0 #degrees celsius\n",
    "\n",
    "rTube = 0.15875 #cm (converted from actual value rTube = 1/16 in)\n",
    "hTube = 32 #height, since we're treating the tube like a cylinder (cm)\n",
    "\n",
    "flaskVol = 29 #cm^3\n",
    "tempFlask = np.array([21,22,27,30,31,37,40,44,45,51,52,54,58,64,66,68,72]) #degrees celsius\n",
    "\n",
    "volSyringe = np.array([0.2,1.0,1.5,1.8,2.0,2.1,2.5,2.8,3.0,3.2,3.5,3.8,4.0,4.2,4.5,4.8,5.0]) #cm^3"
   ]
  },
  {
   "cell_type": "markdown",
   "metadata": {},
   "source": [
    "### Analysis Code.  This block is for the SECOND ROUND of data with constant pressure."
   ]
  },
  {
   "cell_type": "code",
   "execution_count": 18,
   "metadata": {},
   "outputs": [],
   "source": [
    "tubeVol = np.pi*rTube**2*hTube\n",
    "volTube = np.ones(17)*tubeVol\n",
    "\n",
    "volFlask = np.ones(17)*flaskVol #converts integer flaskVol to an array\n",
    "\n",
    "volTotal = volFlask + volSyringe + volTube\n",
    "\n",
    "#calculates weighted syringe temp\n",
    "tempWeightedSyringe = np.ones(17)\n",
    "for i in range(len(volSyringe)):\n",
    "    tempWeightedSyringe[i] = tempRoom/volSyringe[i]\n",
    "\n",
    "#examines tube in 2 different parts: that at syringe temp and that at flask temp\n",
    "percentTubeAtSyringeTemp = 1\n",
    "percentTubeAtFlaskTemp = 0.0\n",
    "\n",
    "#creates arrays for unweighted temperatures of the 3 components of the setup\n",
    "tempSyringeTube = np.ones(17)\n",
    "tempFlaskTube = np.ones(17)\n",
    "tempTube = np.ones(17)\n",
    "\n",
    "#creates arrays to calculate the weighted temperature of the 3 components of the setup\n",
    "totalTempTube = np.ones(17)\n",
    "totalTempFlask = (1/volTotal)*(tempFlask*volFlask)\n",
    "totalTempSyringe = (1/volTotal)*(tempRoom*volSyringe)\n",
    "\n",
    "for j in range(len(tempSyringeTube)):\n",
    "    tempSyringeTube[j] = tempRoom\n",
    "    tempFlaskTube[j] = tempFlask[j]\n",
    "    tempTube[j] = (percentTubeAtSyringeTemp*tempSyringeTube[j])+(percentTubeAtFlaskTemp*tempFlaskTube[j])\n",
    "    totalTempTube[j] = (1/volTotal[j])*(tempTube[j]*volTube[j])\n",
    "\n",
    "#calculates total weighted temperature of setup\n",
    "totalTemp = totalTempFlask + totalTempSyringe + totalTempTube\n",
    "\n",
    "#for testing purposes, prints various calculated values\n",
    "#print('temp tube = ',tempTube)\n",
    "#print('vol total = ', volTotal)\n",
    "#print('total temp = ', totalTemp)"
   ]
  },
  {
   "cell_type": "markdown",
   "metadata": {},
   "source": [
    "### This cell produces a graph of Total Volume vs. Weighted Temperature for Trial 2."
   ]
  },
  {
   "cell_type": "code",
   "execution_count": 19,
   "metadata": {},
   "outputs": [
    {
     "name": "stdout",
     "output_type": "stream",
     "text": [
      "y-intercept =  -281.2558351521265\n",
      "slope =  9.365074396218294\n",
      "uncertainties:  [12.76118929  0.36994554]\n"
     ]
    },
    {
     "data": {
      "image/png": "[encoded data removed]",
      "text/plain": [
       "<Figure size 432x288 with 1 Axes>"
      ]
     },
     "metadata": {},
     "output_type": "display_data"
    }
   ],
   "source": [
    "def straight_line_model(x, A, B):\n",
    "    return A + B * x\n",
    "\n",
    "popt, pcov = scipy.optimize.curve_fit(straight_line_model, volTotal, totalTemp)\n",
    "yIntercept = popt[0]\n",
    "slope = popt[1]\n",
    "print('y-intercept = ',yIntercept)\n",
    "print('slope = ',slope)\n",
    "\n",
    "volTotal_for_plot = np.linspace(volTotal.min(), volTotal.max(), 50)\n",
    "best_fit_line = straight_line_model(volTotal_for_plot, popt[0], popt[1])\n",
    "\n",
    "#calculates uncertainties for both variables\n",
    "popt_uncertainties = np.sqrt(np.diag(pcov)) # get the diagonal elements then take sqrt\n",
    "print('uncertainties: ', popt_uncertainties)\n",
    "\n",
    "plt.plot(volTotal, totalTemp, 'bo') #without '-' after bo, plots points alone\n",
    "plt.plot(volTotal_for_plot, best_fit_line, 'b') # adds best fit line\n",
    "\n",
    "plt.xlabel('Total Volume (cm^3)') # label the x-axis\n",
    "plt.ylabel('Weighted Temperature (Celsius)', size=12) # label the y-axis\n",
    "\n",
    "plt.title('Weighted Temperature vs. Total Volume (Trial 1)') # title\n",
    "plt.show()"
   ]
  },
  {
   "cell_type": "markdown",
   "metadata": {},
   "source": [
    "### Answers to questions and conclusions from Trial 1.\n",
    "1. Temperature when volume approaches 0 (and uncertainty)\n",
    "    \n",
    "    When the volume approaches 0, the line will approach its y-intercept. Using the popt array, the y-intercept of the equation is -330 degrees Celsius +/- 10.\n",
    "    \n",
    "    \n",
    "2. Initial assumption for temperature in tubing\n",
    "    \n",
    "    We calculuate a weighted temperature when examining the temperature of the gas inside the connecting tube because it varies relative to whether it is closer to the flask (a volume at greater than room temperature) or the syringe (a volume at roughly room temperature).\n",
    "    \n",
    "    The total volume is the sum of the volume in the flask + the volume in the syringe + the volume in the tube. We can approximate the volume of the tube by treating it as a cylinder with 0.0015875 m and h = 0.32 m.\n",
    "    \n",
    "    We'll calculate the weighted temperature of the tube in 2 cases. Case 1 is where approx. 1/3 of the tube's temperature is that of the flask and approx. 2/3 is that of the syringe.\n",
    "    \n",
    "    \n",
    "3. Second assumption for temperature in tubing \n",
    "    \n",
    "    Case 2 is where approx. 2/3 of the tube's temperature is that of the flask and approx. 1/3 varies is that of the syringe (approx room temp).\n",
    "    \n",
    "    3a. Recalculated value for absolute zero\n",
    "    \n",
    "      After switching the values for how much of the tube's temperature relative to the temperatures of the flask and syringe, I obtained -300 degrees Celsius +/- 10 for absolute zero.\n",
    "      \n",
    "4. Third assumption for temperature in tubing \n",
    "\n",
    "    Case 3 is where 100% of the tube's temperature is that of the syringe, or room temperature.\n",
    "    \n",
    "    4a. Recalculated value for absolute zero.\n",
    "    \n",
    "      After setting the value for percentTubeAtSyringeTemp to 1 (corresponding to 100% at room temp) I obtained -280 degrees celsius +/- 10 for absolute zero.\n",
    "      \n",
    "Conclusion:\n",
    "The positive slope of the line of best fit suggests that there is a direct relationship between volume and temperature when pressure is held constant. More data points would help reduce the uncertainty in the measurements, however, the residuals demonstrate that the line of best fit accounts for some of the variation in data. We have established that absolute zero is at the y-intercept of the line as we approach a total volume of 0 cm^3 but it varies depending on whether more of the tube's temperature mirrors that of the flask or the syringe. The actual value for absolute zero is between 10 and 60 degrees C less than our measured values, error that may be the result of an outlier at our first data point that may be effecting the line of best fit. When 100% of the tubing is assumed to be at room temperature, we obtain the value closest to the true value for absolute zero, -273.15 degrees Celsius. With this assumption, with a slope of about 9.37, the line of best fit suggests that for the gas, every 1 cm^3 increase in volume is followed by a corresponding temperature increase of 9.37 degrees Celsius. "
   ]
  },
  {
   "cell_type": "markdown",
   "metadata": {},
   "source": [
    "Rename the Notebook and download it as a Notebook (.ipynb).\n",
    "<bk>\n",
    "Send to your Dropbox."
   ]
  }
 ],
 "metadata": {
  "kernelspec": {
   "display_name": "Python 3",
   "language": "python",
   "name": "python3"
  },
  "language_info": {
   "codemirror_mode": {
    "name": "ipython",
    "version": 3
   },
   "file_extension": ".py",
   "mimetype": "text/x-python",
   "name": "python",
   "nbconvert_exporter": "python",
   "pygments_lexer": "ipython3",
   "version": "3.6.5"
  }
 },
 "nbformat": 4,
 "nbformat_minor": 2
}
