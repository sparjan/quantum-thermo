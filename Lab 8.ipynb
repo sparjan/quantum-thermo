{
 "cells": [
  {
   "cell_type": "markdown",
   "metadata": {},
   "source": [
    "# Lab 8: Building a Table-Top Spectrometer\n",
    "Shreya Parjan\n",
    "\n",
    "5 November 2018"
   ]
  },
  {
   "cell_type": "markdown",
   "metadata": {},
   "source": [
    "## Objective\n",
    "The objective of this lab is to accurately measure the red and cyan wavelengths of hydrogen by building a spectrometer."
   ]
  },
  {
   "cell_type": "code",
   "execution_count": 17,
   "metadata": {},
   "outputs": [],
   "source": [
    "import numpy as np\n",
    "import matplotlib.pyplot as plt\n",
    "import scipy.stats\n",
    "import scipy.optimize\n",
    "import math as m\n",
    "%matplotlib inline"
   ]
  },
  {
   "cell_type": "markdown",
   "metadata": {},
   "source": [
    "## Wavelength Calculations"
   ]
  },
  {
   "cell_type": "code",
   "execution_count": 18,
   "metadata": {},
   "outputs": [
    {
     "name": "stdout",
     "output_type": "stream",
     "text": [
      "phi =  0.3168244858682192\n",
      "Red wavelength =  6.666300323890647e-07\n",
      "Cyan wavelength =  4.900551090580305e-07\n"
     ]
    }
   ],
   "source": [
    "m = 1 #unitless\n",
    "thetaRed = np.radians(25) #rad\n",
    "thetaCyan = np.radians(18.1) #rad\n",
    "d = 8.3e-7 #m\n",
    "y = 10e-2 #m\n",
    "l = 30.5e-2 #m\n",
    "\n",
    "phi = np.arctan(y/l)\n",
    "print(\"phi = \", phi)\n",
    "ldRed = 2*d*np.sin(thetaRed)*np.cos(phi)\n",
    "ldCyan = 2*d*np.sin(thetaCyan)*np.cos(phi)\n",
    "print(\"Red wavelength = \", ldRed)\n",
    "print(\"Cyan wavelength = \",ldCyan)"
   ]
  },
  {
   "cell_type": "code",
   "execution_count": 19,
   "metadata": {},
   "outputs": [
    {
     "name": "stdout",
     "output_type": "stream",
     "text": [
      "Percent error in red wavelength =  1.573980251266906 %\n",
      "Percent error in cyan wavelength =  0.8136410323041613 %\n"
     ]
    }
   ],
   "source": [
    "errorRed = ((ldRed - 656.3e-9)/(656.3e-9))*100\n",
    "errorCyan = ((ldCyan - 486.1e-9)/(486.1e-9))*100\n",
    "print(\"Percent error in red wavelength = \", errorRed, \"%\")\n",
    "print(\"Percent error in cyan wavelength = \", errorCyan, \"%\")"
   ]
  },
  {
   "cell_type": "markdown",
   "metadata": {},
   "source": [
    "## Conclusion\n",
    "Our measurements for the wavelengths of the cyan and red light only differed from the true values by about 0.8% and 1.6% respectively, indicating a high level of accuracy."
   ]
  }
 ],
 "metadata": {
  "kernelspec": {
   "display_name": "Python 3",
   "language": "python",
   "name": "python3"
  },
  "language_info": {
   "codemirror_mode": {
    "name": "ipython",
    "version": 3
   },
   "file_extension": ".py",
   "mimetype": "text/x-python",
   "name": "python",
   "nbconvert_exporter": "python",
   "pygments_lexer": "ipython3",
   "version": "3.6.5"
  }
 },
 "nbformat": 4,
 "nbformat_minor": 2
}
